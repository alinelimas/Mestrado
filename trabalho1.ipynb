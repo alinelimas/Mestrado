{
 "cells": [
  {
   "cell_type": "code",
   "execution_count": 1,
   "metadata": {},
   "outputs": [],
   "source": [
    "\n",
    "import xml.dom.minidom\n",
    "\n",
    "# Carregar o arquivo XML\n",
    "xml_doc = xml.dom.minidom.parse(\"C:\\\\Users\\\\aloli\\\\Desktop\\\\jupyter\\\\CysticFibrosis2-20230406\\\\data\\\\cf79.xml\")\n",
    "\n",
    "# Obter todos os elementos 'AUTHOR' no documento\n",
    "authors = xml_doc.getElementsByTagName(\"AUTHOR\")\n",
    "\n",
    "# Criar um arquivo para salvar os nomes dos autores\n",
    "with open(\"autores.xml\", \"w\") as f:\n",
    "    # Para cada elemento 'AUTHOR', obter seu nome e escrevê-lo no arquivo\n",
    "    for author in authors:\n",
    "        name = author.firstChild.nodeValue.strip()\n",
    "        f.write(name + \"\\n\")\n"
   ]
  },
  {
   "cell_type": "code",
   "execution_count": 2,
   "metadata": {},
   "outputs": [],
   "source": [
    "import xml.sax\n",
    "\n",
    "# Definir um manipulador SAX personalizado\n",
    "class MyHandler(xml.sax.ContentHandler):\n",
    "    def __init__(self):\n",
    "        self.titles = []\n",
    "        self.current_title = \"\"\n",
    "\n",
    "    def startElement(self, name, attrs):\n",
    "        # Quando encontrar um elemento 'TITLE', definir o título atual como vazio\n",
    "        if name == \"TITLE\":\n",
    "            self.current_title = \"\"\n",
    "\n",
    "    def characters(self, content):\n",
    "        # Adicionar o conteúdo do elemento atual ao título atual\n",
    "        self.current_title += content.strip()\n",
    "\n",
    "    def endElement(self, name):\n",
    "        # Quando encontrar o fim de um elemento 'TITLE', adicionar seu nome à lista de títulos\n",
    "        if name == \"TITLE\":\n",
    "            self.titles.append(self.current_title)\n",
    "\n",
    "# Criar um objeto XMLReader usando o processador SAX padrão\n",
    "parser = xml.sax.make_parser()\n",
    "\n",
    "# Desativar o tratamento automático de namespaces\n",
    "parser.setFeature(xml.sax.handler.feature_namespaces, False)\n",
    "\n",
    "# Definir o manipulador SAX personalizado\n",
    "handler = MyHandler()\n",
    "parser.setContentHandler(handler)\n",
    "\n",
    "# Fazer o parser do arquivo XML\n",
    "parser.parse(\"C:\\\\Users\\\\aloli\\\\Desktop\\\\jupyter\\\\CysticFibrosis2-20230406\\\\data\\\\cf79.xml\")\n",
    "\n",
    "# Criar um arquivo para salvar os nomes dos títulos\n",
    "with open(\"titulo.xml\", \"w\") as f:\n",
    "    # Para cada título encontrado, escrevê-lo no arquivo\n",
    "    for title in handler.titles:\n",
    "        f.write(title + \"\\n\")\n"
   ]
  }
 ],
 "metadata": {
  "kernelspec": {
   "display_name": "Python 3",
   "language": "python",
   "name": "python3"
  },
  "language_info": {
   "codemirror_mode": {
    "name": "ipython",
    "version": 3
   },
   "file_extension": ".py",
   "mimetype": "text/x-python",
   "name": "python",
   "nbconvert_exporter": "python",
   "pygments_lexer": "ipython3",
   "version": "3.10.10"
  },
  "orig_nbformat": 4
 },
 "nbformat": 4,
 "nbformat_minor": 2
}
